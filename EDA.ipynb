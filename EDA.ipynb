{
 "cells": [
  {
   "cell_type": "code",
   "execution_count": 54,
   "id": "e3830a18-3f40-4990-82b9-da4113f40c57",
   "metadata": {},
   "outputs": [],
   "source": [
    "import pandas as pd\n",
    "import numpy as np\n",
    "from textblob import TextBlob\n",
    "import matplotlib.pyplot as plt\n",
    "import seaborn"
   ]
  },
  {
   "cell_type": "code",
   "execution_count": null,
   "id": "84d24283-6816-4da8-9dd3-db126527be63",
   "metadata": {},
   "outputs": [],
   "source": [
    "from textblob import TextBlob"
   ]
  },
  {
   "cell_type": "code",
   "execution_count": 7,
   "id": "2fe2c674-513d-4400-82ff-31883a97c6b0",
   "metadata": {},
   "outputs": [
    {
     "data": {
      "text/html": [
       "<div>\n",
       "<style scoped>\n",
       "    .dataframe tbody tr th:only-of-type {\n",
       "        vertical-align: middle;\n",
       "    }\n",
       "\n",
       "    .dataframe tbody tr th {\n",
       "        vertical-align: top;\n",
       "    }\n",
       "\n",
       "    .dataframe thead th {\n",
       "        text-align: right;\n",
       "    }\n",
       "</style>\n",
       "<table border=\"1\" class=\"dataframe\">\n",
       "  <thead>\n",
       "    <tr style=\"text-align: right;\">\n",
       "      <th></th>\n",
       "      <th>date</th>\n",
       "      <th>title</th>\n",
       "      <th>artist</th>\n",
       "      <th>peak_pos</th>\n",
       "      <th>rank</th>\n",
       "      <th>lyrics</th>\n",
       "    </tr>\n",
       "  </thead>\n",
       "  <tbody>\n",
       "    <tr>\n",
       "      <th>0</th>\n",
       "      <td>6/21/2018</td>\n",
       "      <td>All Girls Are The Same</td>\n",
       "      <td>Juice WRLD</td>\n",
       "      <td>41</td>\n",
       "      <td>41</td>\n",
       "      <td>They're rotting my brain, love\\nThese hoes are...</td>\n",
       "    </tr>\n",
       "    <tr>\n",
       "      <th>1</th>\n",
       "      <td>6/21/2018</td>\n",
       "      <td>All Mine</td>\n",
       "      <td>Kanye West</td>\n",
       "      <td>11</td>\n",
       "      <td>31</td>\n",
       "      <td>Yeah, you supermodel thick\\nDamn, that ass bus...</td>\n",
       "    </tr>\n",
       "    <tr>\n",
       "      <th>2</th>\n",
       "      <td>6/21/2018</td>\n",
       "      <td>Back To You</td>\n",
       "      <td>Selena Gomez</td>\n",
       "      <td>22</td>\n",
       "      <td>22</td>\n",
       "      <td>Took you like a shot\\nThought that I could cha...</td>\n",
       "    </tr>\n",
       "    <tr>\n",
       "      <th>3</th>\n",
       "      <td>6/21/2018</td>\n",
       "      <td>Be Careful</td>\n",
       "      <td>Cardi B</td>\n",
       "      <td>11</td>\n",
       "      <td>23</td>\n",
       "      <td>Yeah\\nBe careful, be careful, be careful with ...</td>\n",
       "    </tr>\n",
       "    <tr>\n",
       "      <th>4</th>\n",
       "      <td>6/21/2018</td>\n",
       "      <td>Beautiful Crazy</td>\n",
       "      <td>Luke Combs</td>\n",
       "      <td>58</td>\n",
       "      <td>93</td>\n",
       "      <td>Her day starts with a coffee\\nAnd ends with a ...</td>\n",
       "    </tr>\n",
       "  </tbody>\n",
       "</table>\n",
       "</div>"
      ],
      "text/plain": [
       "        date                   title        artist  peak_pos  rank  \\\n",
       "0  6/21/2018  All Girls Are The Same    Juice WRLD        41    41   \n",
       "1  6/21/2018                All Mine    Kanye West        11    31   \n",
       "2  6/21/2018             Back To You  Selena Gomez        22    22   \n",
       "3  6/21/2018              Be Careful       Cardi B        11    23   \n",
       "4  6/21/2018         Beautiful Crazy    Luke Combs        58    93   \n",
       "\n",
       "                                              lyrics  \n",
       "0  They're rotting my brain, love\\nThese hoes are...  \n",
       "1  Yeah, you supermodel thick\\nDamn, that ass bus...  \n",
       "2  Took you like a shot\\nThought that I could cha...  \n",
       "3  Yeah\\nBe careful, be careful, be careful with ...  \n",
       "4  Her day starts with a coffee\\nAnd ends with a ...  "
      ]
     },
     "execution_count": 7,
     "metadata": {},
     "output_type": "execute_result"
    }
   ],
   "source": [
    "data = pd.read_csv('clean_song_data.txt', encoding='MacRoman', delimiter='\\t')\n",
    "data.head()"
   ]
  },
  {
   "cell_type": "code",
   "execution_count": 8,
   "id": "4cc8a6a7-8715-472f-8ff0-ddb1d37ce219",
   "metadata": {},
   "outputs": [
    {
     "data": {
      "text/plain": [
       "(7228, 6)"
      ]
     },
     "execution_count": 8,
     "metadata": {},
     "output_type": "execute_result"
    }
   ],
   "source": [
    "data.shape"
   ]
  },
  {
   "cell_type": "code",
   "execution_count": 10,
   "id": "753e1d1d-f092-46ce-bf12-2b423ab6f576",
   "metadata": {},
   "outputs": [
    {
     "name": "stdout",
     "output_type": "stream",
     "text": [
      "<class 'pandas.core.frame.DataFrame'>\n",
      "RangeIndex: 7228 entries, 0 to 7227\n",
      "Data columns (total 6 columns):\n",
      " #   Column    Non-Null Count  Dtype \n",
      "---  ------    --------------  ----- \n",
      " 0   date      7228 non-null   object\n",
      " 1   title     7228 non-null   object\n",
      " 2   artist    7228 non-null   object\n",
      " 3   peak_pos  7228 non-null   int64 \n",
      " 4   rank      7228 non-null   int64 \n",
      " 5   lyrics    7228 non-null   object\n",
      "dtypes: int64(2), object(4)\n",
      "memory usage: 338.9+ KB\n"
     ]
    }
   ],
   "source": [
    "data.info()"
   ]
  },
  {
   "cell_type": "code",
   "execution_count": 11,
   "id": "5d3df5be-d35a-4f9b-8f3b-22cf57c92064",
   "metadata": {},
   "outputs": [
    {
     "data": {
      "text/html": [
       "<div>\n",
       "<style scoped>\n",
       "    .dataframe tbody tr th:only-of-type {\n",
       "        vertical-align: middle;\n",
       "    }\n",
       "\n",
       "    .dataframe tbody tr th {\n",
       "        vertical-align: top;\n",
       "    }\n",
       "\n",
       "    .dataframe thead th {\n",
       "        text-align: right;\n",
       "    }\n",
       "</style>\n",
       "<table border=\"1\" class=\"dataframe\">\n",
       "  <thead>\n",
       "    <tr style=\"text-align: right;\">\n",
       "      <th></th>\n",
       "      <th>peak_pos</th>\n",
       "      <th>rank</th>\n",
       "    </tr>\n",
       "  </thead>\n",
       "  <tbody>\n",
       "    <tr>\n",
       "      <th>count</th>\n",
       "      <td>7228.000000</td>\n",
       "      <td>7228.000000</td>\n",
       "    </tr>\n",
       "    <tr>\n",
       "      <th>mean</th>\n",
       "      <td>47.735750</td>\n",
       "      <td>75.697288</td>\n",
       "    </tr>\n",
       "    <tr>\n",
       "      <th>std</th>\n",
       "      <td>30.217805</td>\n",
       "      <td>22.693345</td>\n",
       "    </tr>\n",
       "    <tr>\n",
       "      <th>min</th>\n",
       "      <td>1.000000</td>\n",
       "      <td>1.000000</td>\n",
       "    </tr>\n",
       "    <tr>\n",
       "      <th>25%</th>\n",
       "      <td>20.000000</td>\n",
       "      <td>53.000000</td>\n",
       "    </tr>\n",
       "    <tr>\n",
       "      <th>50%</th>\n",
       "      <td>48.000000</td>\n",
       "      <td>85.000000</td>\n",
       "    </tr>\n",
       "    <tr>\n",
       "      <th>75%</th>\n",
       "      <td>74.000000</td>\n",
       "      <td>95.000000</td>\n",
       "    </tr>\n",
       "    <tr>\n",
       "      <th>max</th>\n",
       "      <td>100.000000</td>\n",
       "      <td>100.000000</td>\n",
       "    </tr>\n",
       "  </tbody>\n",
       "</table>\n",
       "</div>"
      ],
      "text/plain": [
       "          peak_pos         rank\n",
       "count  7228.000000  7228.000000\n",
       "mean     47.735750    75.697288\n",
       "std      30.217805    22.693345\n",
       "min       1.000000     1.000000\n",
       "25%      20.000000    53.000000\n",
       "50%      48.000000    85.000000\n",
       "75%      74.000000    95.000000\n",
       "max     100.000000   100.000000"
      ]
     },
     "execution_count": 11,
     "metadata": {},
     "output_type": "execute_result"
    }
   ],
   "source": [
    "data.describe()"
   ]
  },
  {
   "cell_type": "code",
   "execution_count": 15,
   "id": "8194b177-7520-4609-9362-047be87c9c35",
   "metadata": {},
   "outputs": [
    {
     "data": {
      "text/plain": [
       "array([[<Axes: title={'center': 'peak_pos'}>,\n",
       "        <Axes: title={'center': 'rank'}>]], dtype=object)"
      ]
     },
     "execution_count": 15,
     "metadata": {},
     "output_type": "execute_result"
    },
    {
     "data": {
      "image/png": "[encoded data removed]",
      "text/plain": [
       "<Figure size 640x480 with 2 Axes>"
      ]
     },
     "metadata": {},
     "output_type": "display_data"
    }
   ],
   "source": [
    "data.hist()"
   ]
  },
  {
   "cell_type": "code",
   "execution_count": 16,
   "id": "b9710fca-feb9-4aaf-a06f-1aabda00536b",
   "metadata": {},
   "outputs": [
    {
     "data": {
      "text/plain": [
       "<Axes: >"
      ]
     },
     "execution_count": 16,
     "metadata": {},
     "output_type": "execute_result"
    },
    {
     "data": {
      "image/png": "[encoded data removed]",
      "text/plain": [
       "<Figure size 640x480 with 1 Axes>"
      ]
     },
     "metadata": {},
     "output_type": "display_data"
    }
   ],
   "source": [
    "data.boxplot()"
   ]
  },
  {
   "cell_type": "code",
   "execution_count": 18,
   "id": "b0f7938a-9cf9-46e3-9204-ca193e67062f",
   "metadata": {},
   "outputs": [
    {
     "data": {
      "text/html": [
       "<div>\n",
       "<style scoped>\n",
       "    .dataframe tbody tr th:only-of-type {\n",
       "        vertical-align: middle;\n",
       "    }\n",
       "\n",
       "    .dataframe tbody tr th {\n",
       "        vertical-align: top;\n",
       "    }\n",
       "\n",
       "    .dataframe thead th {\n",
       "        text-align: right;\n",
       "    }\n",
       "</style>\n",
       "<table border=\"1\" class=\"dataframe\">\n",
       "  <thead>\n",
       "    <tr style=\"text-align: right;\">\n",
       "      <th></th>\n",
       "      <th>peak_pos</th>\n",
       "      <th>rank</th>\n",
       "    </tr>\n",
       "  </thead>\n",
       "  <tbody>\n",
       "    <tr>\n",
       "      <th>peak_pos</th>\n",
       "      <td>1.000000</td>\n",
       "      <td>0.654746</td>\n",
       "    </tr>\n",
       "    <tr>\n",
       "      <th>rank</th>\n",
       "      <td>0.654746</td>\n",
       "      <td>1.000000</td>\n",
       "    </tr>\n",
       "  </tbody>\n",
       "</table>\n",
       "</div>"
      ],
      "text/plain": [
       "          peak_pos      rank\n",
       "peak_pos  1.000000  0.654746\n",
       "rank      0.654746  1.000000"
      ]
     },
     "execution_count": 18,
     "metadata": {},
     "output_type": "execute_result"
    }
   ],
   "source": [
    "data[['peak_pos','rank']].corr()"
   ]
  },
  {
   "cell_type": "code",
   "execution_count": 44,
   "id": "0c941873-586a-41ae-b05e-f059dd5cd6d9",
   "metadata": {},
   "outputs": [],
   "source": [
    "data_cat =data[['date', 'artist']]"
   ]
  },
  {
   "cell_type": "code",
   "execution_count": 67,
   "id": "6bd5f452-ac80-4353-b364-e652391b4056",
   "metadata": {},
   "outputs": [
    {
     "data": {
      "image/png": "[encoded data removed]",
      "text/plain": [
       "<Figure size 640x480 with 1 Axes>"
      ]
     },
     "metadata": {},
     "output_type": "display_data"
    }
   ],
   "source": [
    "artist_counts = data['artist'].value_counts()\n",
    "top_20_artists = artist_counts.head(20)\n",
    "x_values = top_20_artists.index\n",
    "y_values = top_20_artists\n",
    "colors = plt.cm.viridis(np.linspace(0, 1, len(x_values)))\n",
    "plt.bar(x_values, y_values, color=colors)\n",
    "plt.xticks(rotation=90)\n",
    "plt.xlabel('Artist')\n",
    "plt.ylabel('Count')\n",
    "plt.show()"
   ]
  },
  {
   "cell_type": "markdown",
   "id": "dfaea759-1f43-4723-b046-fd95af56ea7c",
   "metadata": {},
   "source": [
    "### Note: Additional visualizations created using Tableau"
   ]
  }
 ],
 "metadata": {
  "kernelspec": {
   "display_name": "Python 3 (ipykernel)",
   "language": "python",
   "name": "python3"
  },
  "language_info": {
   "codemirror_mode": {
    "name": "ipython",
    "version": 3
   },
   "file_extension": ".py",
   "mimetype": "text/x-python",
   "name": "python",
   "nbconvert_exporter": "python",
   "pygments_lexer": "ipython3",
   "version": "3.11.4"
  }
 },
 "nbformat": 4,
 "nbformat_minor": 5
}
